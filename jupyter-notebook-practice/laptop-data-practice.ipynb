{
 "cells": [
  {
   "cell_type": "markdown",
   "metadata": {},
   "source": [
    "# Import Necessary modules"
   ]
  },
  {
   "cell_type": "code",
   "execution_count": 1,
   "metadata": {},
   "outputs": [],
   "source": [
    "import numpy as np\n",
    "import pandas as pd\n",
    "from sklearn.model_selection import train_test_split\n",
    "from sklearn.linear_model import LogisticRegression, LinearRegression\n",
    "from sklearn.metrics import accuracy_score, mean_squared_error, root_mean_squared_error, r2_score"
   ]
  },
  {
   "cell_type": "markdown",
   "metadata": {},
   "source": [
    "# Import Dataset file"
   ]
  },
  {
   "cell_type": "code",
   "execution_count": 2,
   "metadata": {},
   "outputs": [
    {
     "name": "stdout",
     "output_type": "stream",
     "text": [
      "   laptop_ID Company      Product   TypeName  Inches                    ScreenResolution                         Cpu   Ram               Memory                           Gpu  OpSys  Weight  Price_euros\n",
      "0          1   Apple  MacBook Pro  Ultrabook    13.3  IPS Panel Retina Display 2560x1600        Intel Core i5 2.3GHz   8GB            128GB SSD  Intel Iris Plus Graphics 640  macOS  1.37kg      1339.69\n",
      "1          2   Apple  Macbook Air  Ultrabook    13.3                            1440x900        Intel Core i5 1.8GHz   8GB  128GB Flash Storage        Intel HD Graphics 6000  macOS  1.34kg       898.94\n",
      "2          3      HP       250 G6   Notebook    15.6                   Full HD 1920x1080  Intel Core i5 7200U 2.5GHz   8GB            256GB SSD         Intel HD Graphics 620  No OS  1.86kg       575.00\n",
      "3          4   Apple  MacBook Pro  Ultrabook    15.4  IPS Panel Retina Display 2880x1800        Intel Core i7 2.7GHz  16GB            512GB SSD            AMD Radeon Pro 455  macOS  1.83kg      2537.45\n",
      "4          5   Apple  MacBook Pro  Ultrabook    13.3  IPS Panel Retina Display 2560x1600        Intel Core i5 3.1GHz   8GB            256GB SSD  Intel Iris Plus Graphics 650  macOS  1.37kg      1803.60\n"
     ]
    }
   ],
   "source": [
    "df = pd.read_csv('../data-sets/laptop_price.csv', encoding='ISO-8859-1')\n",
    "print(df.head().to_string())"
   ]
  },
  {
   "cell_type": "markdown",
   "metadata": {},
   "source": [
    "# Get the Info of Data"
   ]
  },
  {
   "cell_type": "code",
   "execution_count": 3,
   "metadata": {},
   "outputs": [
    {
     "name": "stdout",
     "output_type": "stream",
     "text": [
      "<class 'pandas.core.frame.DataFrame'>\n",
      "RangeIndex: 1303 entries, 0 to 1302\n",
      "Data columns (total 13 columns):\n",
      " #   Column            Non-Null Count  Dtype  \n",
      "---  ------            --------------  -----  \n",
      " 0   laptop_ID         1303 non-null   int64  \n",
      " 1   Company           1303 non-null   object \n",
      " 2   Product           1303 non-null   object \n",
      " 3   TypeName          1303 non-null   object \n",
      " 4   Inches            1303 non-null   float64\n",
      " 5   ScreenResolution  1303 non-null   object \n",
      " 6   Cpu               1303 non-null   object \n",
      " 7   Ram               1303 non-null   object \n",
      " 8   Memory            1303 non-null   object \n",
      " 9   Gpu               1303 non-null   object \n",
      " 10  OpSys             1303 non-null   object \n",
      " 11  Weight            1303 non-null   object \n",
      " 12  Price_euros       1303 non-null   float64\n",
      "dtypes: float64(2), int64(1), object(10)\n",
      "memory usage: 132.5+ KB\n"
     ]
    }
   ],
   "source": [
    "df.info()\n",
    "df.isnull().sum()  # Check for missing values\n",
    "df.dropna()\n",
    "df.drop(labels=['laptop_ID', 'Product', 'Inches', 'OpSys', 'Company'], axis=1, inplace=True)"
   ]
  },
  {
   "cell_type": "markdown",
   "metadata": {},
   "source": [
    "# Change All Feature Data into Numerical Value using OneHotEncoder"
   ]
  },
  {
   "cell_type": "code",
   "execution_count": 4,
   "metadata": {},
   "outputs": [
    {
     "name": "stdout",
     "output_type": "stream",
     "text": [
      "   TypeName                    ScreenResolution  Cpu  Ram  Memory  Gpu  Weight  Price_euros\n",
      "0         0  IPS Panel Retina Display 2560x1600    0    8       0    0    1.37      1339.69\n",
      "1         0                            1440x900    1    8       1    1    1.34       898.94\n",
      "2         1                   Full HD 1920x1080    2    8       2    2    1.86       575.00\n",
      "3         0  IPS Panel Retina Display 2880x1800    3   16       3    3    1.83      2537.45\n",
      "4         0  IPS Panel Retina Display 2560x1600    4    8       2    4    1.37      1803.60\n"
     ]
    }
   ],
   "source": [
    "# Initialize OneHotEncoder with the correct parameter\n",
    "# Select the columns to encode\n",
    "columns_to_encode = [ 'TypeName', 'Cpu', 'Memory', 'Gpu', 'Ram', 'Weight']\n",
    "def map_to_replace(columns):\n",
    "    # Iterate through each column in the list\n",
    "    for column in columns:\n",
    "        if column == 'Ram':\n",
    "            df[column] = df[column].str.replace('GB', '')\n",
    "            df[column] = df[column].astype(int)\n",
    "        elif column == 'Weight':\n",
    "            df[column] = df[column].str.replace('kg', '')\n",
    "            df[column] = df[column].astype(float)\n",
    "        elif(df[column].dtype == 'object'):\n",
    "            unique_map = {} \n",
    "            count = 0\n",
    "            for i in df[column].unique():\n",
    "                unique_map[str(i)] = count \n",
    "                count += 1 \n",
    "            df[column] = df[column].map(unique_map)\n",
    "\n",
    "map_to_replace(columns_to_encode)\n",
    "print(df.head().to_string())"
   ]
  },
  {
   "cell_type": "code",
   "execution_count": 5,
   "metadata": {},
   "outputs": [
    {
     "name": "stdout",
     "output_type": "stream",
     "text": [
      "   TypeName Cpu  Ram  Memory  Gpu  Weight  Price_euros  Resolution_Width  \\\n",
      "0         0   0    8       0    0    1.37      1339.69                 0   \n",
      "1         0   1    8       1    1    1.34       898.94                 1   \n",
      "2         1   2    8       2    2    1.86       575.00                 2   \n",
      "3         0   3   16       3    3    1.83      2537.45                 3   \n",
      "4         0   4    8       2    4    1.37      1803.60                 0   \n",
      "\n",
      "  Resolution_Height Cpu_Brand  Cpu_Speed  \n",
      "0              1600         0        0.0  \n",
      "1               900         1        1.0  \n",
      "2              1080         2        2.0  \n",
      "3              1800         3        3.0  \n",
      "4              1600         4        4.0  \n"
     ]
    }
   ],
   "source": [
    "# Ensure that the 'ScreenResolution' column is of string type\n",
    "df['ScreenResolution'] = df['ScreenResolution'].astype(str)\n",
    "\n",
    "# Split the 'ScreenResolution' into width and height\n",
    "df[['Resolution_Width', 'Resolution_Height']] = df['ScreenResolution'].str.split('x', expand=True)\n",
    "\n",
    "# Ensure that the 'Cpu' column is of string type\n",
    "df['Cpu'] = df['Cpu'].astype(str)\n",
    "\n",
    "# Extract CPU brand (e.g., Intel, AMD)\n",
    "df['Cpu_Brand'] = df['Cpu'].apply(lambda x: x.split()[0])  \n",
    "\n",
    "# Extract CPU speed and remove 'GHz'\n",
    "df['Cpu_Speed'] = df['Cpu'].apply(lambda x: float(x.split()[-1].replace('GHz', '').strip()))\n",
    "df.drop(labels='ScreenResolution', axis=1, inplace=True)\n",
    "map_to_replace(np.array(['Resolution_Width']))\n",
    "# View the updated DataFrame\n",
    "print(df.head())\n"
   ]
  },
  {
   "cell_type": "code",
   "execution_count": 6,
   "metadata": {},
   "outputs": [],
   "source": [
    "from sklearn.preprocessing import StandardScaler\n",
    "\n",
    "scaler = StandardScaler()\n",
    "df[[ 'Weight', 'Resolution_Width', 'Resolution_Height']] = scaler.fit_transform(df[['Weight', 'Resolution_Width', 'Resolution_Height']])\n"
   ]
  },
  {
   "cell_type": "code",
   "execution_count": 7,
   "metadata": {},
   "outputs": [
    {
     "data": {
      "text/html": [
       "<div>\n",
       "<style scoped>\n",
       "    .dataframe tbody tr th:only-of-type {\n",
       "        vertical-align: middle;\n",
       "    }\n",
       "\n",
       "    .dataframe tbody tr th {\n",
       "        vertical-align: top;\n",
       "    }\n",
       "\n",
       "    .dataframe thead th {\n",
       "        text-align: right;\n",
       "    }\n",
       "</style>\n",
       "<table border=\"1\" class=\"dataframe\">\n",
       "  <thead>\n",
       "    <tr style=\"text-align: right;\">\n",
       "      <th></th>\n",
       "      <th>Gpu</th>\n",
       "      <th>Price_euros</th>\n",
       "    </tr>\n",
       "  </thead>\n",
       "  <tbody>\n",
       "    <tr>\n",
       "      <th>Gpu</th>\n",
       "      <td>1.000000</td>\n",
       "      <td>0.139455</td>\n",
       "    </tr>\n",
       "    <tr>\n",
       "      <th>Price_euros</th>\n",
       "      <td>0.139455</td>\n",
       "      <td>1.000000</td>\n",
       "    </tr>\n",
       "  </tbody>\n",
       "</table>\n",
       "</div>"
      ],
      "text/plain": [
       "                  Gpu  Price_euros\n",
       "Gpu          1.000000     0.139455\n",
       "Price_euros  0.139455     1.000000"
      ]
     },
     "execution_count": 7,
     "metadata": {},
     "output_type": "execute_result"
    }
   ],
   "source": [
    "df[['Gpu', 'Price_euros']].corr()\n"
   ]
  },
  {
   "cell_type": "code",
   "execution_count": 8,
   "metadata": {},
   "outputs": [
    {
     "name": "stdout",
     "output_type": "stream",
     "text": [
      "(1303, 10) (1303,)\n"
     ]
    }
   ],
   "source": [
    "X = df.drop(labels=\"Price_euros\", axis=1)\n",
    "y = df['Price_euros']\n",
    "print(X.shape, y.shape)"
   ]
  },
  {
   "cell_type": "code",
   "execution_count": 9,
   "metadata": {},
   "outputs": [
    {
     "name": "stdout",
     "output_type": "stream",
     "text": [
      "(391, 10) (912, 10) (391,) (912,)\n"
     ]
    }
   ],
   "source": [
    "x_train, x_test, y_train, y_test = train_test_split(X, y, test_size=0.3, random_state=42)\n",
    "print(x_test.shape, x_train.shape, y_test.shape, y_train.shape)"
   ]
  },
  {
   "cell_type": "code",
   "execution_count": 10,
   "metadata": {},
   "outputs": [
    {
     "name": "stdout",
     "output_type": "stream",
     "text": [
      "Coeff : [ 68.51400352   0.52409362  88.85428612  -8.69040163  -0.77216897\n",
      " -34.75609229 -27.05793726 201.8538863    0.52409362   0.52409362] & intercept : 296.80727407267807\n"
     ]
    }
   ],
   "source": [
    "model = LinearRegression()\n",
    "model.fit(x_train, y_train)\n",
    "print(f'Coeff : {model.coef_} & intercept : {model.intercept_}')"
   ]
  },
  {
   "cell_type": "code",
   "execution_count": 11,
   "metadata": {},
   "outputs": [],
   "source": [
    "y_pred = model.predict(x_test)"
   ]
  },
  {
   "cell_type": "code",
   "execution_count": 12,
   "metadata": {},
   "outputs": [
    {
     "name": "stdout",
     "output_type": "stream",
     "text": [
      "MSE : 199659.2686884051 & RMSE : 446.8324839225603 & R2 SCORE : 0.6271395459886031\n"
     ]
    }
   ],
   "source": [
    "mse = mean_squared_error(y_test, y_pred)\n",
    "rmse = root_mean_squared_error(y_test, y_pred)\n",
    "r2Score = r2_score(y_test, y_pred)\n",
    "\n",
    "print(f'MSE : {mse} & RMSE : {rmse} & R2 SCORE : {r2Score}')"
   ]
  }
 ],
 "metadata": {
  "kernelspec": {
   "display_name": "base",
   "language": "python",
   "name": "python3"
  },
  "language_info": {
   "codemirror_mode": {
    "name": "ipython",
    "version": 3
   },
   "file_extension": ".py",
   "mimetype": "text/x-python",
   "name": "python",
   "nbconvert_exporter": "python",
   "pygments_lexer": "ipython3",
   "version": "3.12.4"
  }
 },
 "nbformat": 4,
 "nbformat_minor": 2
}
