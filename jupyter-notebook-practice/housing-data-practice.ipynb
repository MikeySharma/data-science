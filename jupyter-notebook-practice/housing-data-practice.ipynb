{
 "cells": [
  {
   "cell_type": "markdown",
   "metadata": {},
   "source": [
    "Import Neccessary modules and dependencies"
   ]
  },
  {
   "cell_type": "code",
   "execution_count": 1,
   "metadata": {},
   "outputs": [],
   "source": [
    "import numpy as np\n",
    "import pandas as pd\n",
    "import matplotlib.pyplot as plt\n",
    "from sklearn.linear_model import LogisticRegression, LinearRegression\n",
    "from sklearn.preprocessing import StandardScaler\n",
    "from sklearn.metrics import r2_score, mean_absolute_error, mean_squared_error, accuracy_score\n",
    "from sklearn.model_selection import train_test_split"
   ]
  },
  {
   "cell_type": "code",
   "execution_count": 2,
   "metadata": {},
   "outputs": [
    {
     "name": "stdout",
     "output_type": "stream",
     "text": [
      "   longitude  latitude  housing_median_age  total_rooms  total_bedrooms  \\\n",
      "0    -122.23     37.88                41.0        880.0           129.0   \n",
      "1    -122.22     37.86                21.0       7099.0          1106.0   \n",
      "2    -122.24     37.85                52.0       1467.0           190.0   \n",
      "3    -122.25     37.85                52.0       1274.0           235.0   \n",
      "4    -122.25     37.85                52.0       1627.0           280.0   \n",
      "\n",
      "   population  households  median_income  median_house_value ocean_proximity  \n",
      "0       322.0       126.0         8.3252            452600.0        NEAR BAY  \n",
      "1      2401.0      1138.0         8.3014            358500.0        NEAR BAY  \n",
      "2       496.0       177.0         7.2574            352100.0        NEAR BAY  \n",
      "3       558.0       219.0         5.6431            341300.0        NEAR BAY  \n",
      "4       565.0       259.0         3.8462            342200.0        NEAR BAY  \n"
     ]
    }
   ],
   "source": [
    "#Import CSV DATA file\n",
    "df = pd.read_csv('../data-sets/housing.csv')\n",
    "print(df.head())"
   ]
  },
  {
   "cell_type": "code",
   "execution_count": 3,
   "metadata": {},
   "outputs": [
    {
     "name": "stdout",
     "output_type": "stream",
     "text": [
      "ocean_proximity\n",
      "<1H OCEAN     9136\n",
      "INLAND        6551\n",
      "NEAR OCEAN    2658\n",
      "NEAR BAY      2290\n",
      "ISLAND           5\n",
      "Name: count, dtype: int64\n"
     ]
    }
   ],
   "source": [
    "#Get the object value and replace them with a float or int value\n",
    "print(df['ocean_proximity'].value_counts())\n",
    "df['ocean_proximity'] = df['ocean_proximity'].map({\n",
    "    '<1H OCEAN': 1,\n",
    "    'INLAND' : 2,\n",
    "    'NEAR OCEAN' : 3,\n",
    "    'NEAR BAY': 4,\n",
    "    'ISLAND': 4\n",
    "})\n"
   ]
  },
  {
   "cell_type": "code",
   "execution_count": 4,
   "metadata": {},
   "outputs": [
    {
     "name": "stdout",
     "output_type": "stream",
     "text": [
      "                    longitude  latitude  housing_median_age  total_rooms  total_bedrooms  population  households  median_income  median_house_value  ocean_proximity\n",
      "longitude            1.000000 -0.924616           -0.109357     0.045480        0.069608    0.100270    0.056513      -0.015550           -0.045398        -0.440211\n",
      "latitude            -0.924616  1.000000            0.011899    -0.036667       -0.066983   -0.108997   -0.071774      -0.079626           -0.144638         0.391390\n",
      "housing_median_age  -0.109357  0.011899            1.000000    -0.360628       -0.320451   -0.295787   -0.302768      -0.118278            0.106432         0.145294\n",
      "total_rooms          0.045480 -0.036667           -0.360628     1.000000        0.930380    0.857281    0.918992       0.197882            0.133294        -0.016065\n",
      "total_bedrooms       0.069608 -0.066983           -0.320451     0.930380        1.000000    0.877747    0.979728      -0.007723            0.049686        -0.021411\n",
      "population           0.100270 -0.108997           -0.295787     0.857281        0.877747    1.000000    0.907186       0.005087           -0.025300        -0.082986\n",
      "households           0.056513 -0.071774           -0.302768     0.918992        0.979728    0.907186    1.000000       0.013434            0.064894        -0.027363\n",
      "median_income       -0.015550 -0.079626           -0.118278     0.197882       -0.007723    0.005087    0.013434       1.000000            0.688355        -0.039150\n",
      "median_house_value  -0.045398 -0.144638            0.106432     0.133294        0.049686   -0.025300    0.064894       0.688355            1.000000         0.020599\n",
      "ocean_proximity     -0.440211  0.391390            0.145294    -0.016065       -0.021411   -0.082986   -0.027363      -0.039150            0.020599         1.000000\n"
     ]
    }
   ],
   "source": [
    "#Check for the correlation between the data provided in the datasets\n",
    "df = df.dropna()\n",
    "print(df.corr().to_string())\n",
    "#Negative value means when one increases other value decreases\n",
    "#Positive value means when one increases other value increases as well\n",
    "#Zero means that there is no effect of that data to another data"
   ]
  },
  {
   "cell_type": "code",
   "execution_count": 5,
   "metadata": {},
   "outputs": [],
   "source": [
    "#Split data into x and y\n",
    "X = df.drop(['median_house_value'], axis=1)\n",
    "y = df['median_house_value']\n",
    "\n",
    "threshold = y.mean()\n",
    "y_binary = (y >= threshold).astype(int)"
   ]
  },
  {
   "cell_type": "code",
   "execution_count": 6,
   "metadata": {},
   "outputs": [],
   "source": [
    "#SCale the values for better predictions since there is no effect of scaling in this data we won't use it\n",
    "# scale = StandardScaler()\n",
    "# X = scale.fit_transform(X)"
   ]
  },
  {
   "cell_type": "code",
   "execution_count": 7,
   "metadata": {},
   "outputs": [
    {
     "name": "stdout",
     "output_type": "stream",
     "text": [
      "(16346, 9) (4087, 9) (16346,) (4087,)\n"
     ]
    }
   ],
   "source": [
    "#Split Data into train and test data\n",
    "x_train, x_test, y_train, y_test = train_test_split(X, y_binary, test_size=0.2, random_state=42)\n",
    "\n",
    "print(x_train.shape, x_test.shape, y_train.shape, y_test.shape)"
   ]
  },
  {
   "cell_type": "code",
   "execution_count": 8,
   "metadata": {},
   "outputs": [
    {
     "name": "stdout",
     "output_type": "stream",
     "text": [
      "Weights: [[-1.87119002e+00 -1.83197340e+00  3.41377116e-02 -7.64990957e-05\n",
      "   2.25221806e-03 -1.63349969e-03  3.15736399e-03  1.17345032e+00\n",
      "  -1.94143654e-01]]\n",
      "Bias : [-164.6360754]\n"
     ]
    }
   ],
   "source": [
    "#Initialize model\n",
    "model = LogisticRegression(max_iter=3000)\n",
    "# model = LinearRegression()\n",
    "\n",
    "#Train the model\n",
    "model.fit(x_train, y_train)\n",
    "\n",
    "#Get the value of coefficient and intercept [Weights or bias]\n",
    "\n",
    "print(f'Weights: {model.coef_}')\n",
    "print(f'Bias : {model.intercept_}')"
   ]
  },
  {
   "cell_type": "code",
   "execution_count": 9,
   "metadata": {},
   "outputs": [
    {
     "name": "stdout",
     "output_type": "stream",
     "text": [
      "R2Score : 0.37432753979182964\n",
      "mean Squared Error : 0.1509664790800098\n",
      "Mean Absolute Error : 0.1509664790800098\n",
      "Accuracy Score: 0.8490335209199902\n"
     ]
    }
   ],
   "source": [
    "#Test the model and check the r2Score and mean_squared_error\n",
    "y_pred = model.predict(x_test)\n",
    "\n",
    "r2Score = r2_score(y_test, y_pred)\n",
    "accuracy = accuracy_score(y_test, y_pred)\n",
    "meanSquaredError = mean_squared_error(y_test, y_pred)\n",
    "meanAbsoluteError = mean_absolute_error(y_test, y_pred)\n",
    "print(f'R2Score : {r2Score}')\n",
    "print(f'mean Squared Error : {meanSquaredError}')\n",
    "print(f'Mean Absolute Error : {meanAbsoluteError}')\n",
    "print(f'Accuracy Score: {accuracy}')"
   ]
  },
  {
   "cell_type": "code",
   "execution_count": 10,
   "metadata": {},
   "outputs": [
    {
     "data": {
      "image/png": "[encoded data removed]",
      "text/plain": [
       "<Figure size 640x480 with 1 Axes>"
      ]
     },
     "metadata": {},
     "output_type": "display_data"
    }
   ],
   "source": [
    "#Plot the data\n",
    "plt.title('Median Income VS Median House Value')\n",
    "plt.scatter(x_test['median_income'], y_test, marker=\"o\", color=\"b\")\n",
    "plt.scatter(x_test['median_income'], y_pred, marker='x', color=\"r\")\n",
    "plt.xlabel('Median Income')\n",
    "plt.ylabel('Median House Value')\n",
    "plt.show()"
   ]
  }
 ],
 "metadata": {
  "kernelspec": {
   "display_name": "base",
   "language": "python",
   "name": "python3"
  },
  "language_info": {
   "codemirror_mode": {
    "name": "ipython",
    "version": 3
   },
   "file_extension": ".py",
   "mimetype": "text/x-python",
   "name": "python",
   "nbconvert_exporter": "python",
   "pygments_lexer": "ipython3",
   "version": "3.12.4"
  }
 },
 "nbformat": 4,
 "nbformat_minor": 2
}
