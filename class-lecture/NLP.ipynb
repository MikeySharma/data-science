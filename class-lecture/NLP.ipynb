{
 "cells": [
  {
   "cell_type": "markdown",
   "metadata": {},
   "source": [
    "# NLP"
   ]
  },
  {
   "cell_type": "code",
   "execution_count": 2,
   "metadata": {},
   "outputs": [],
   "source": [
    "text1 = 'Microsoft and our third-party vendors use cookies to store and access information such as unique IDs to deliver, maintian and improve our services and ads.'"
   ]
  },
  {
   "cell_type": "code",
   "execution_count": 3,
   "metadata": {},
   "outputs": [
    {
     "data": {
      "text/plain": [
       "155"
      ]
     },
     "execution_count": 3,
     "metadata": {},
     "output_type": "execute_result"
    }
   ],
   "source": [
    "len(text1)"
   ]
  },
  {
   "cell_type": "code",
   "execution_count": 4,
   "metadata": {},
   "outputs": [
    {
     "data": {
      "text/plain": [
       "25"
      ]
     },
     "execution_count": 4,
     "metadata": {},
     "output_type": "execute_result"
    }
   ],
   "source": [
    "words1 = text1.split(' ')\n",
    "len(words1)"
   ]
  },
  {
   "cell_type": "code",
   "execution_count": 6,
   "metadata": {},
   "outputs": [
    {
     "name": "stdout",
     "output_type": "stream",
     "text": [
      "o\n",
      "osoft \n"
     ]
    }
   ],
   "source": [
    "print(text1[4])\n",
    "print(text1[4:10])"
   ]
  },
  {
   "cell_type": "code",
   "execution_count": 7,
   "metadata": {},
   "outputs": [
    {
     "name": "stdout",
     "output_type": "stream",
     "text": [
      "\n",
      " Combined Text:  Microsoft window is best os available in market today This is another string.\n"
     ]
    }
   ],
   "source": [
    "text1 = \"Microsoft window is best os available in market today\"\n",
    "text2 = \"This is another string.\"\n",
    "combined_text = text1 + ' ' + text2\n",
    "print('\\n Combined Text: ', combined_text)"
   ]
  },
  {
   "cell_type": "code",
   "execution_count": 11,
   "metadata": {},
   "outputs": [
    {
     "name": "stdout",
     "output_type": "stream",
     "text": [
      "\n",
      " Repeated Text:  Hello Hello Hello \n"
     ]
    }
   ],
   "source": [
    "repeated_text = \"Hello \" * 3\n",
    "print('\\n Repeated Text: ', repeated_text)"
   ]
  },
  {
   "cell_type": "code",
   "execution_count": 14,
   "metadata": {},
   "outputs": [
    {
     "name": "stdout",
     "output_type": "stream",
     "text": [
      "\n",
      " Misrcosoft is present in text1.\n"
     ]
    }
   ],
   "source": [
    "if \"Microsoft\" in text1:\n",
    "    print('\\n Misrcosoft is present in text1.')"
   ]
  },
  {
   "cell_type": "code",
   "execution_count": 16,
   "metadata": {},
   "outputs": [
    {
     "name": "stdout",
     "output_type": "stream",
     "text": [
      "\n",
      " Google is not present in text1\n"
     ]
    }
   ],
   "source": [
    "if \"Google\" not in text1:\n",
    "    print(\"\\n Google is not present in text1\")"
   ]
  },
  {
   "cell_type": "code",
   "execution_count": 23,
   "metadata": {},
   "outputs": [
    {
     "name": "stdout",
     "output_type": "stream",
     "text": [
      "Uppercase:  HELLO, HOW ARE YOU?\n",
      "Lowercase:  hello, how are you?\n",
      "TitleCase Text: Hello, How Are You?\n",
      "SwapCase:  hELLO, hOW aRE YOU?\n",
      "Replace:  Hi, How Are you?\n"
     ]
    }
   ],
   "source": [
    "text1 = \"Hello, How Are you?\"\n",
    "print(\"Uppercase: \", text1.upper())\n",
    "print(\"Lowercase: \", text1.lower())\n",
    "print(\"TitleCase Text:\", text1.title())\n",
    "print(\"SwapCase: \", text1.swapcase())\n",
    "print(\"Replace: \", text1.replace(\"Hello\", \"Hi\"))"
   ]
  }
 ],
 "metadata": {
  "kernelspec": {
   "display_name": "Python 3",
   "language": "python",
   "name": "python3"
  },
  "language_info": {
   "codemirror_mode": {
    "name": "ipython",
    "version": 3
   },
   "file_extension": ".py",
   "mimetype": "text/x-python",
   "name": "python",
   "nbconvert_exporter": "python",
   "pygments_lexer": "ipython3",
   "version": "3.12.1"
  }
 },
 "nbformat": 4,
 "nbformat_minor": 2
}
