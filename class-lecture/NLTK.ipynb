{
 "cells": [
  {
   "cell_type": "markdown",
   "metadata": {},
   "source": [
    "# NLTK"
   ]
  },
  {
   "cell_type": "code",
   "execution_count": 15,
   "metadata": {},
   "outputs": [
    {
     "data": {
      "text/plain": [
       "['code',\n",
       " 'code',\n",
       " 'code',\n",
       " 'hack',\n",
       " 'hack',\n",
       " 'move',\n",
       " 'queue',\n",
       " 'java',\n",
       " 'javascript',\n",
       " 'windi',\n",
       " 'blow']"
      ]
     },
     "execution_count": 15,
     "metadata": {},
     "output_type": "execute_result"
    }
   ],
   "source": [
    "from nltk.stem import PorterStemmer\n",
    "mywords = ['code', 'coding', 'codes', 'hacks', 'hacking', 'moving', 'queue', 'java', 'javascript', 'windy', 'blowing']\n",
    "prt = PorterStemmer()\n",
    "[prt.stem(ts) for ts in mywords]"
   ]
  },
  {
   "cell_type": "code",
   "execution_count": 7,
   "metadata": {},
   "outputs": [
    {
     "name": "stderr",
     "output_type": "stream",
     "text": [
      "[nltk_data] Downloading package wordnet to\n",
      "[nltk_data]     /home/codespace/nltk_data...\n"
     ]
    },
    {
     "data": {
      "text/plain": [
       "True"
      ]
     },
     "execution_count": 7,
     "metadata": {},
     "output_type": "execute_result"
    }
   ],
   "source": [
    "import nltk\n",
    "nltk.download('wordnet')\n"
   ]
  },
  {
   "cell_type": "code",
   "execution_count": 14,
   "metadata": {},
   "outputs": [
    {
     "data": {
      "text/plain": [
       "['code',\n",
       " 'coding',\n",
       " 'code',\n",
       " 'hack',\n",
       " 'hacking',\n",
       " 'moving',\n",
       " 'queue',\n",
       " 'java',\n",
       " 'javascript',\n",
       " 'windy',\n",
       " 'blowing']"
      ]
     },
     "execution_count": 14,
     "metadata": {},
     "output_type": "execute_result"
    }
   ],
   "source": [
    "mywords = ['code', 'coding', 'codes', 'hacks', 'hacking', 'moving', 'queue', 'java', 'javascript', 'windy', 'blowing']\n",
    "WNlemma  = nltk.WordNetLemmatizer()\n",
    "[WNlemma.lemmatize(t) for t in mywords]"
   ]
  },
  {
   "cell_type": "markdown",
   "metadata": {},
   "source": [
    "# Tokenization"
   ]
  },
  {
   "cell_type": "code",
   "execution_count": 30,
   "metadata": {},
   "outputs": [
    {
     "name": "stdout",
     "output_type": "stream",
     "text": [
      "['Our', 'first', 'split', 'function', 'combines', \"'?'\", 'with', 'the', 'previous', 'word.', 'But', 'when', 'we', 'did', 'it', 'by', 'using', 'nltk,', 'it', 'create', 'seperate', 'word.']\n",
      "[('Our', 'PRP$'), ('first', 'JJ'), ('split', 'NN'), ('function', 'NN'), ('combines', 'NNS'), (\"'\", 'POS'), ('?', '.'), (\"'\", \"''\"), ('with', 'IN'), ('the', 'DT'), ('previous', 'JJ'), ('word', 'NN'), ('.', '.'), ('But', 'CC'), ('when', 'WRB'), ('we', 'PRP'), ('did', 'VBD'), ('it', 'PRP'), ('by', 'IN'), ('using', 'VBG'), ('nltk', 'NN'), (',', ','), ('it', 'PRP'), ('create', 'VBP'), ('seperate', 'JJ'), ('word', 'NN'), ('.', '.')]\n"
     ]
    }
   ],
   "source": [
    "#Uncommit below to line while running for first time\n",
    "# nltk.download('punkt_tab')\n",
    "# nltk.download('averaged_perceptron_tagger_eng')\n",
    "# text2 = 'why are you so integlligent?'\n",
    "text2 = \"Our first split function combines '?' with the previous word. But when we did it by using nltk, it create seperate word.\"\n",
    "words = text2.split(' ')\n",
    "print(words)\n",
    "teokenizeword = nltk.word_tokenize(text2)\n",
    "print(nltk.pos_tag(teokenizeword))"
   ]
  }
 ],
 "metadata": {
  "kernelspec": {
   "display_name": "Python 3",
   "language": "python",
   "name": "python3"
  },
  "language_info": {
   "codemirror_mode": {
    "name": "ipython",
    "version": 3
   },
   "file_extension": ".py",
   "mimetype": "text/x-python",
   "name": "python",
   "nbconvert_exporter": "python",
   "pygments_lexer": "ipython3",
   "version": "3.12.1"
  }
 },
 "nbformat": 4,
 "nbformat_minor": 2
}
